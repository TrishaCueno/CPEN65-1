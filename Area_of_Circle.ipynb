{
  "nbformat": 4,
  "nbformat_minor": 0,
  "metadata": {
    "colab": {
      "provenance": [],
      "authorship_tag": "ABX9TyNgXIl7cooCoIi8jmuByLKR",
      "include_colab_link": true
    },
    "kernelspec": {
      "name": "python3",
      "display_name": "Python 3"
    },
    "language_info": {
      "name": "python"
    }
  },
  "cells": [
    {
      "cell_type": "markdown",
      "metadata": {
        "id": "view-in-github",
        "colab_type": "text"
      },
      "source": [
        "<a href=\"https://colab.research.google.com/github/TrishaCueno/CPEN65-1/blob/main/Area_of_Circle.ipynb\" target=\"_parent\"><img src=\"https://colab.research.google.com/assets/colab-badge.svg\" alt=\"Open In Colab\"/></a>"
      ]
    },
    {
      "cell_type": "markdown",
      "source": [
        "**ASSIGNMENT 1**\n",
        "\n",
        "Create a Python program that computes the area of a circle."
      ],
      "metadata": {
        "id": "vpa3Nhe59eMX"
      }
    },
    {
      "cell_type": "code",
      "execution_count": null,
      "metadata": {
        "colab": {
          "base_uri": "https://localhost:8080/"
        },
        "id": "I_grXf4ywlgs",
        "outputId": "9a9d54cd-ea73-4a32-ffb8-45e64bf45430"
      },
      "outputs": [
        {
          "output_type": "stream",
          "name": "stdout",
          "text": [
            "Enter the Radius: 5\n",
            "The Exact Area of Circle is: 78.53981633974483\n",
            "The Area of Circle is: 78.54\n"
          ]
        }
      ],
      "source": [
        "# Create a Python program that computes the area of a circle\n",
        "\n",
        "import math\n",
        "\n",
        "def Area_of_Circle(radius):\n",
        "    Area_of_Circle = 3.141592653589793238 * radius * radius\n",
        "    return Area_of_Circle\n",
        "\n",
        "radius = int(input(\"Enter the Radius: \"))\n",
        "print(\"The Exact Area of Circle is:\",Area_of_Circle(radius))\n",
        "\n",
        "myFloat = Area_of_Circle = 3.141592653589793238 * radius * radius\n",
        "print(\"The Area of Circle is: \" + format(myFloat,'.2f'))"
      ]
    }
  ]
}