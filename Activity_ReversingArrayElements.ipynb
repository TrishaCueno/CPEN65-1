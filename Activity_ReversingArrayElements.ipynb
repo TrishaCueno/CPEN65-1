{
  "nbformat": 4,
  "nbformat_minor": 0,
  "metadata": {
    "colab": {
      "provenance": [],
      "authorship_tag": "ABX9TyOBEnvzcblw9TnwdjanyMqN",
      "include_colab_link": true
    },
    "kernelspec": {
      "name": "python3",
      "display_name": "Python 3"
    },
    "language_info": {
      "name": "python"
    }
  },
  "cells": [
    {
      "cell_type": "markdown",
      "metadata": {
        "id": "view-in-github",
        "colab_type": "text"
      },
      "source": [
        "<a href=\"https://colab.research.google.com/github/TrishaCueno/CPEN65-1/blob/main/Activity_ReversingArrayElements.ipynb\" target=\"_parent\"><img src=\"https://colab.research.google.com/assets/colab-badge.svg\" alt=\"Open In Colab\"/></a>"
      ]
    },
    {
      "cell_type": "code",
      "execution_count": 3,
      "metadata": {
        "colab": {
          "base_uri": "https://localhost:8080/"
        },
        "id": "Vl0Q-pVkhtEs",
        "outputId": "f197f103-1504-45ce-8fcb-d3fea2e00d8f"
      },
      "outputs": [
        {
          "output_type": "stream",
          "name": "stdout",
          "text": [
            "REVERSE ORDER: ['O', 'N', 'E', 'U', 'C', 'C.', 'E', 'Y', 'A', 'F', 'A', 'H', 'S', 'I', 'R', 'T']\n"
          ]
        }
      ],
      "source": [
        "#Reversing Array Elements \n",
        "\n",
        "my_name = [\"T\", \"R\", \"I\", \"S\", \"H\", \"A\", \"F\", \"A\", \"Y\", \"E\", \"C.\", \"C\", \"U\", \"E\", \"N\", \"O\"]\n",
        "\n",
        "my_name.reverse()\n",
        "print(\"REVERSE ORDER:\" ,my_name)"
      ]
    }
  ]
}