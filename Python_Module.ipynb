{
  "nbformat": 4,
  "nbformat_minor": 0,
  "metadata": {
    "colab": {
      "provenance": [],
      "authorship_tag": "ABX9TyNhBm0kGglGcxCLJ7BfpPyI",
      "include_colab_link": true
    },
    "kernelspec": {
      "name": "python3",
      "display_name": "Python 3"
    },
    "language_info": {
      "name": "python"
    }
  },
  "cells": [
    {
      "cell_type": "markdown",
      "metadata": {
        "id": "view-in-github",
        "colab_type": "text"
      },
      "source": [
        "<a href=\"https://colab.research.google.com/github/TrishaCueno/CPEN65-1/blob/main/Python_Module.ipynb\" target=\"_parent\"><img src=\"https://colab.research.google.com/assets/colab-badge.svg\" alt=\"Open In Colab\"/></a>"
      ]
    },
    {
      "cell_type": "markdown",
      "source": [
        "##ARRAY MODULE IN PYTHON"
      ],
      "metadata": {
        "id": "wjb_Ht94inmQ"
      }
    },
    {
      "cell_type": "code",
      "execution_count": 10,
      "metadata": {
        "colab": {
          "base_uri": "https://localhost:8080/"
        },
        "id": "E_seu_u3iiFp",
        "outputId": "735375d5-4267-4655-afbb-f9c2ed64ba5a"
      },
      "outputs": [
        {
          "output_type": "stream",
          "name": "stdout",
          "text": [
            "i\n",
            "f\n"
          ]
        }
      ],
      "source": [
        "# getting typecodes\n",
        "import array \n",
        "array.typecodes\n",
        "a = array.array('i', [1,2,3,4,5])\n",
        "print(a.typecode)\n",
        "b = array.array('f', [1.5,2.5,3.5,4.5,5.5])\n",
        "print(b.typecode)"
      ]
    },
    {
      "cell_type": "code",
      "source": [
        "# getting typecodes\n",
        "import array as arr\n",
        "arr.typecodes\n",
        "a = arr.array('i', [1,2,3,4,5])\n",
        "print(a.typecode)\n",
        "b = arr.array('f', [1.5,2.5,3.5,4.5,5.5])\n",
        "print(b.typecode)"
      ],
      "metadata": {
        "colab": {
          "base_uri": "https://localhost:8080/"
        },
        "id": "mF37mFxgiwLn",
        "outputId": "58672b8a-aa04-4f1a-dce1-9627ad7647f8"
      },
      "execution_count": 11,
      "outputs": [
        {
          "output_type": "stream",
          "name": "stdout",
          "text": [
            "i\n",
            "f\n"
          ]
        }
      ]
    },
    {
      "cell_type": "markdown",
      "source": [
        "### WHAT ARE THE OUTPUT OF THESE CODES?"
      ],
      "metadata": {
        "id": "9wR0TFKKiu7_"
      }
    },
    {
      "cell_type": "code",
      "source": [
        "import array as arr\n",
        "a = arr.array('i',[4,5,6,7])\n",
        "print(a)\n",
        "\n",
        "c = a.insert(1,2)\n",
        "print(a)\n",
        "a.insert(-1,2)\n",
        "print(a)\n",
        "a.insert(6,8)\n",
        "print(a)\n",
        "a.insert(10,-1)\n",
        "print(a)"
      ],
      "metadata": {
        "colab": {
          "base_uri": "https://localhost:8080/"
        },
        "id": "VfIeuktSi-lu",
        "outputId": "cc38446f-bb7d-4764-9aaf-85258268cd9d"
      },
      "execution_count": 14,
      "outputs": [
        {
          "output_type": "stream",
          "name": "stdout",
          "text": [
            "array('i', [4, 5, 6, 7])\n",
            "array('i', [4, 2, 5, 6, 7])\n",
            "array('i', [4, 2, 5, 6, 2, 7])\n",
            "array('i', [4, 2, 5, 6, 2, 7, 8])\n",
            "array('i', [4, 2, 5, 6, 2, 7, 8, -1])\n"
          ]
        }
      ]
    },
    {
      "cell_type": "markdown",
      "source": [
        "## LINKED LIST"
      ],
      "metadata": {
        "id": "FJrnw6RgjFgB"
      }
    },
    {
      "cell_type": "code",
      "source": [
        "# PYTHON PROGRAM TO CREATE A SINGLY LINKED OF VOWEL IN ENGLISH\n",
        "\n",
        "# NODE CLASS\n",
        "class Node:\n",
        "  def __init__(self, data):                                                      # function to initialize the node object\n",
        "    self.data = data                                                             # assign data\n",
        "    self.next = None                                                             # initialize as null/empty\n",
        "\n",
        "# LINKED LIST THAT CONTAINS NODE OBJECT \n",
        "class LinkedList:\n",
        "  def __init__(self):\n",
        "    self.head = None\n",
        "\n",
        "  def printlist(self):\n",
        "    temp = self.head\n",
        "    while(temp):\n",
        "      print(temp.data)\n",
        "      temp = temp.next \n",
        "\n",
        "# CODE EXECUTION STARTING FROM EMPTY LIST\n",
        "llist = LinkedList()\n",
        "llist.head = Node(\"a\")\n",
        "second = Node(\"e\")\n",
        "third = Node(\"i\")\n",
        "fourth = Node (\"o\")\n",
        "fifth = Node (\"u\")\n",
        "\n",
        "llist.head.next = second\n",
        "second.next = third                                                                                                                   # not (data) - bec the result would be \"e\"\n",
        "third.next = fourth\n",
        "fourth.next = fifth\n",
        "\n",
        "# print(LinkedList)\n",
        "llist.printlist()"
      ],
      "metadata": {
        "colab": {
          "base_uri": "https://localhost:8080/"
        },
        "id": "qs9h2z5RjA_3",
        "outputId": "efce160e-1130-4585-8aa6-325b58a9e32b"
      },
      "execution_count": 20,
      "outputs": [
        {
          "output_type": "stream",
          "name": "stdout",
          "text": [
            "a\n",
            "e\n",
            "i\n",
            "o\n",
            "u\n"
          ]
        }
      ]
    }
  ]
}