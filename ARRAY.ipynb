{
  "nbformat": 4,
  "nbformat_minor": 0,
  "metadata": {
    "colab": {
      "provenance": [],
      "authorship_tag": "ABX9TyNfWo8pi25arQzcZQ4zGwPj",
      "include_colab_link": true
    },
    "kernelspec": {
      "name": "python3",
      "display_name": "Python 3"
    },
    "language_info": {
      "name": "python"
    }
  },
  "cells": [
    {
      "cell_type": "markdown",
      "metadata": {
        "id": "view-in-github",
        "colab_type": "text"
      },
      "source": [
        "<a href=\"https://colab.research.google.com/github/TrishaCueno/CPEN65-1/blob/main/ARRAY.ipynb\" target=\"_parent\"><img src=\"https://colab.research.google.com/assets/colab-badge.svg\" alt=\"Open In Colab\"/></a>"
      ]
    },
    {
      "cell_type": "code",
      "execution_count": 23,
      "metadata": {
        "colab": {
          "base_uri": "https://localhost:8080/"
        },
        "id": "WLaTlPQpgmt9",
        "outputId": "583616be-5fc3-488b-e4e3-2cee3ec21074"
      },
      "outputs": [
        {
          "output_type": "stream",
          "name": "stdout",
          "text": [
            "animals[0] = cat\n",
            "animals[1] = dog\n",
            "animals[2] = fish\n"
          ]
        }
      ],
      "source": [
        "# Accessing the elements in an array.\n",
        "animals = ['cat', 'dog', 'fish']\n",
        "x = animals[0]\n",
        "y = animals[1]\n",
        "z = animals[2]\n",
        "print('animals[0] =', x)\n",
        "print('animals[1] =', y)\n",
        "print('animals[2] =', z)"
      ]
    },
    {
      "cell_type": "code",
      "source": [
        "# Modifying the element/s in the array.\n",
        "animals = ['cat', 'dog', 'fish']\n",
        "animals[0] = \"monkey\"\n",
        "x = animals[0]\n",
        "print('animals[0] =', x)\n",
        "print(animals)"
      ],
      "metadata": {
        "colab": {
          "base_uri": "https://localhost:8080/"
        },
        "id": "q1ijU4Dug-54",
        "outputId": "3981ab50-cc32-4cf8-8024-7182aceb2867"
      },
      "execution_count": 24,
      "outputs": [
        {
          "output_type": "stream",
          "name": "stdout",
          "text": [
            "animals[0] = monkey\n",
            "['monkey', 'dog', 'fish']\n"
          ]
        }
      ]
    },
    {
      "cell_type": "code",
      "source": [
        "# Length of an array\n",
        "animals = ['monkey', 'dog', 'fish', 'cat', 'bird']\n",
        "v = len(animals)\n",
        "print(v)"
      ],
      "metadata": {
        "colab": {
          "base_uri": "https://localhost:8080/"
        },
        "id": "3i9xSuzAhA5E",
        "outputId": "b3065080-b7eb-4aa9-c8c2-450d3b0948aa"
      },
      "execution_count": 25,
      "outputs": [
        {
          "output_type": "stream",
          "name": "stdout",
          "text": [
            "5\n"
          ]
        }
      ]
    },
    {
      "cell_type": "code",
      "source": [
        "# Looping array elements\n",
        "animals = ['monkey', 'dog', 'fish', 'cat', 'bird']\n",
        "for animal in animals:\n",
        "  print(animal)"
      ],
      "metadata": {
        "colab": {
          "base_uri": "https://localhost:8080/"
        },
        "id": "LdY3bjtuhCW0",
        "outputId": "48ab6284-dbb4-4b14-e871-75ca322c4fb8"
      },
      "execution_count": 26,
      "outputs": [
        {
          "output_type": "stream",
          "name": "stdout",
          "text": [
            "monkey\n",
            "dog\n",
            "fish\n",
            "cat\n",
            "bird\n"
          ]
        }
      ]
    },
    {
      "cell_type": "code",
      "source": [
        "# Looping array elements\n",
        "animals = ['monkey', 'dog', 'fish', 'cat', 'bird']\n",
        "for animal in animals:\n",
        "  print('animal[%s] = %s' % (animals.index(animal), animal))"
      ],
      "metadata": {
        "colab": {
          "base_uri": "https://localhost:8080/"
        },
        "id": "xKAmXYU5hEbl",
        "outputId": "f2020cd6-0391-4fb9-ef52-6c6f2e021e33"
      },
      "execution_count": 27,
      "outputs": [
        {
          "output_type": "stream",
          "name": "stdout",
          "text": [
            "animal[0] = monkey\n",
            "animal[1] = dog\n",
            "animal[2] = fish\n",
            "animal[3] = cat\n",
            "animal[4] = bird\n"
          ]
        }
      ]
    },
    {
      "cell_type": "code",
      "source": [
        "animals = ['monkey', 'dog', 'fish', 'cat', 'bird']\n",
        "for i, animal in enumerate(animals):\n",
        "  print('animal[%s] = %s' % (i, animal))"
      ],
      "metadata": {
        "colab": {
          "base_uri": "https://localhost:8080/"
        },
        "id": "LpArKsqQhF9q",
        "outputId": "31c16c9f-349a-47ab-f016-0097d1dec084"
      },
      "execution_count": 34,
      "outputs": [
        {
          "output_type": "stream",
          "name": "stdout",
          "text": [
            "animal[0] = monkey\n",
            "animal[1] = dog\n",
            "animal[2] = fish\n",
            "animal[3] = cat\n",
            "animal[4] = bird\n"
          ]
        }
      ]
    },
    {
      "cell_type": "code",
      "source": [
        "# Adding element/s in an array\n",
        "animals = ['monkey', 'dog', 'fish', 'cat', 'bird']\n",
        "animals.append('lion')\n",
        "print(animals)"
      ],
      "metadata": {
        "colab": {
          "base_uri": "https://localhost:8080/"
        },
        "id": "xhff2_79hHiG",
        "outputId": "a25d7545-f13b-4d93-c936-c0614ef1c340"
      },
      "execution_count": 30,
      "outputs": [
        {
          "output_type": "stream",
          "name": "stdout",
          "text": [
            "['monkey', 'dog', 'fish', 'cat', 'bird', 'lion']\n"
          ]
        }
      ]
    },
    {
      "cell_type": "code",
      "source": [
        "# Let's Try\n",
        "# Write a Python program to insert a new item (11) efore the second element in \n",
        "# an existing array.\n",
        "numbers = [1, 2, 3, 4, 5, 6, 7, 8, 9, 10]\n",
        "numbers.insert(1, 11)\n",
        "print(numbers)"
      ],
      "metadata": {
        "colab": {
          "base_uri": "https://localhost:8080/"
        },
        "id": "GSzmWFHjhJmG",
        "outputId": "beeb722d-ced4-4ae7-aef1-80fa54061f57"
      },
      "execution_count": 31,
      "outputs": [
        {
          "output_type": "stream",
          "name": "stdout",
          "text": [
            "[1, 11, 2, 3, 4, 5, 6, 7, 8, 9, 10]\n"
          ]
        }
      ]
    },
    {
      "cell_type": "code",
      "source": [
        "# Removing element/s in the array\n",
        "numbers.pop(1)\n",
        "print(numbers)"
      ],
      "metadata": {
        "colab": {
          "base_uri": "https://localhost:8080/"
        },
        "id": "l_lSoz0ThLAm",
        "outputId": "68cf5d70-8cb3-43f8-f4df-dfece0332394"
      },
      "execution_count": 32,
      "outputs": [
        {
          "output_type": "stream",
          "name": "stdout",
          "text": [
            "[1, 2, 3, 4, 5, 6, 7, 8, 9, 10]\n"
          ]
        }
      ]
    }
  ]
}