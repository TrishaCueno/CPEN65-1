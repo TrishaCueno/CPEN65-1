{
  "nbformat": 4,
  "nbformat_minor": 0,
  "metadata": {
    "colab": {
      "provenance": [],
      "authorship_tag": "ABX9TyOnPxplom2kQRBPxFbftyE0",
      "include_colab_link": true
    },
    "kernelspec": {
      "name": "python3",
      "display_name": "Python 3"
    },
    "language_info": {
      "name": "python"
    }
  },
  "cells": [
    {
      "cell_type": "markdown",
      "metadata": {
        "id": "view-in-github",
        "colab_type": "text"
      },
      "source": [
        "<a href=\"https://colab.research.google.com/github/TrishaCueno/CPEN65-1/blob/main/Cueno%2CTrishaFaye_Midterm_Exam.ipynb\" target=\"_parent\"><img src=\"https://colab.research.google.com/assets/colab-badge.svg\" alt=\"Open In Colab\"/></a>"
      ]
    },
    {
      "cell_type": "markdown",
      "source": [
        "###A. Methodology"
      ],
      "metadata": {
        "id": "TEVR0wncUjAH"
      }
    },
    {
      "cell_type": "markdown",
      "source": [
        "1. Write a Python program to create an array of 10 integers and display the array items. Access individual elements through indexes and compute for the sum."
      ],
      "metadata": {
        "id": "w6CWBLrDbZje"
      }
    },
    {
      "cell_type": "code",
      "execution_count": 34,
      "metadata": {
        "colab": {
          "base_uri": "https://localhost:8080/"
        },
        "id": "w_qBshwsJfa2",
        "outputId": "e71310fd-4697-4a04-83a2-b301ddc1d31f"
      },
      "outputs": [
        {
          "output_type": "stream",
          "name": "stdout",
          "text": [
            "Array items: [1, 2, 3, 4, 5, 6, 7, 8, 9, 0]\n",
            "Check an index: 7\n",
            "8\n",
            "Sum of array: 45\n"
          ]
        }
      ],
      "source": [
        "import array as arr\n",
        "arr =[ 1,2,3,4,5,6,7,8,9,0 ]\n",
        "print(\"Array items:\",arr)\n",
        "\n",
        "index = int(input(\"Check an index: \"))\n",
        "print(arr[index])\n",
        "current = 0\n",
        "\n",
        "for x in arr:\n",
        "  sum = current + arr[x]\n",
        "  current = sum\n",
        "print(\"Sum of array:\", sum)\n"
      ]
    },
    {
      "cell_type": "markdown",
      "source": [
        "2. Write a Python program to append a new item to the end of the array. Original array: numbers = [1, 2, 3, 4, 5, 6, 7, 8, 9, 10]"
      ],
      "metadata": {
        "id": "hg1bDED-beOG"
      }
    },
    {
      "cell_type": "code",
      "source": [
        "numbers = [1,2,3,4,5,6,7,8,9,10]\n",
        "print(\"Original array numbers: \")\n",
        "print(numbers)\n",
        "print(\"\\n\")\n",
        "\n",
        "x = int(input(\"Input a number: \"))\n",
        "numbers.append(x)\n",
        "print(\"Array after append:\", numbers)"
      ],
      "metadata": {
        "colab": {
          "base_uri": "https://localhost:8080/"
        },
        "id": "9UP06TImbDnN",
        "outputId": "80961978-041a-4ab9-a3b8-96885f65c61e"
      },
      "execution_count": 44,
      "outputs": [
        {
          "output_type": "stream",
          "name": "stdout",
          "text": [
            "Original array numbers: \n",
            "[1, 2, 3, 4, 5, 6, 7, 8, 9, 10]\n",
            "\n",
            "\n",
            "Input a number: 99\n",
            "Array after append: [1, 2, 3, 4, 5, 6, 7, 8, 9, 10, 99]\n"
          ]
        }
      ]
    },
    {
      "cell_type": "markdown",
      "source": [
        "3. Write a Python program to insert a new item before the last element in an\n",
        "existing array. Original array: numbers = [1, 2, 3, 4, 5, 6, 7, 8, 9, 10]"
      ],
      "metadata": {
        "id": "M6VifYvjbvcz"
      }
    },
    {
      "cell_type": "code",
      "source": [
        "numbers = [1,2,3,4,5,6,7,8,9,10]\n",
        "print(\"Original array numbers: \")\n",
        "print(numbers)\n",
        "print(\"\\n\")\n",
        "\n",
        "x = int(input(\"Input an existing array number: \"))\n",
        "y = int(input(\"Input a number to insert: \"))\n",
        "\n",
        "numbers.insert(x,y)\n",
        "print(numbers)"
      ],
      "metadata": {
        "colab": {
          "base_uri": "https://localhost:8080/"
        },
        "id": "06owDCnkbzHm",
        "outputId": "b1b50027-7346-402e-c48b-3dcb6189f536"
      },
      "execution_count": 45,
      "outputs": [
        {
          "output_type": "stream",
          "name": "stdout",
          "text": [
            "Original array numbers: \n",
            "[1, 2, 3, 4, 5, 6, 7, 8, 9, 10]\n",
            "\n",
            "\n",
            "Input an existing array number: 5\n",
            "Input a number to insert: 99\n",
            "[1, 2, 3, 4, 5, 99, 6, 7, 8, 9, 10]\n"
          ]
        }
      ]
    },
    {
      "cell_type": "markdown",
      "source": [
        "4. Write a Python program to reverse the order of the items in the array. Original\n",
        "array: numbers = [1, 2, 3, 4, 5]"
      ],
      "metadata": {
        "id": "OYUUnONfcFrx"
      }
    },
    {
      "cell_type": "code",
      "source": [
        "numbers = [1,2,3,4,5,6,7,8,9,10]\n",
        "print(\"Original array numbers: \")\n",
        "print(numbers)\n",
        "print(\"\\n\")\n",
        "\n",
        "numbers.reverse()\n",
        "print(\"Reversed Order:\")\n",
        "print(numbers)"
      ],
      "metadata": {
        "colab": {
          "base_uri": "https://localhost:8080/"
        },
        "id": "HPFWj6gwcSHE",
        "outputId": "dc2ed207-edbe-412d-9884-d2bb7f3ffce3"
      },
      "execution_count": 48,
      "outputs": [
        {
          "output_type": "stream",
          "name": "stdout",
          "text": [
            "Original array numbers: \n",
            "[1, 2, 3, 4, 5, 6, 7, 8, 9, 10]\n",
            "\n",
            "\n",
            "Reversed Order:\n",
            "[10, 9, 8, 7, 6, 5, 4, 3, 2, 1]\n"
          ]
        }
      ]
    },
    {
      "cell_type": "markdown",
      "source": [
        "5. Let A be an array of size n ≥ 2 containing integers from 1 to n−1, inclusive, with\n",
        "exactly one repeated. Create an algorithm for finding the integer in A that is\n",
        "repeated."
      ],
      "metadata": {
        "id": "yTtrLB3zhCnB"
      }
    },
    {
      "cell_type": "code",
      "source": [
        "arr = [7,5,2,3,8,4,7,1]\n",
        "print(\"A:\", arr)\n",
        "print(\"\\n\")\n",
        "\n",
        "def findRepeating(arr, N):      #N = 8\n",
        "    for i in range(N):\n",
        "        for x in range(i + 1, N):\n",
        "            if (arr[i] == arr[x]):\n",
        "                return arr[i]\n",
        "\n",
        "if __name__ == \"__main__\":\n",
        "  arr = [7,5,2,3,8,4,7,1]\n",
        "  N = len(arr)\n",
        "\n",
        "print(\"Repeating element in array A: \", findRepeating(arr, N))"
      ],
      "metadata": {
        "colab": {
          "base_uri": "https://localhost:8080/"
        },
        "id": "XJqk7mlOiZ_H",
        "outputId": "de4c9e8e-8fd5-4b24-d1d7-330e1ad95500"
      },
      "execution_count": 56,
      "outputs": [
        {
          "output_type": "stream",
          "name": "stdout",
          "text": [
            "A: [7, 5, 2, 3, 8, 4, 7, 1]\n",
            "\n",
            "\n",
            "Repeating element in array A:  7\n"
          ]
        }
      ]
    }
  ]
}